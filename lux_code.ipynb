{
 "cells": [
  {
   "cell_type": "markdown",
   "id": "28a90314",
   "metadata": {},
   "source": [
    "# Introduction To Modern Python"
   ]
  },
  {
   "cell_type": "markdown",
   "id": "28b67639",
   "metadata": {},
   "source": [
    "# 1. Data types"
   ]
  },
  {
   "cell_type": "code",
   "execution_count": 1,
   "id": "9117796a",
   "metadata": {},
   "outputs": [
    {
     "name": "stdout",
     "output_type": "stream",
     "text": [
      "<class 'int'>\n"
     ]
    }
   ],
   "source": [
    "# int\n",
    "\n",
    "x = 5 \n",
    "\n",
    "print(type(x))"
   ]
  },
  {
   "cell_type": "code",
   "execution_count": 2,
   "id": "c3eb565d",
   "metadata": {},
   "outputs": [
    {
     "name": "stdout",
     "output_type": "stream",
     "text": [
      "<class 'str'>\n"
     ]
    }
   ],
   "source": [
    "# string\n",
    "\n",
    "x = \"Francis Odero\" \n",
    "\n",
    "print(type(x))"
   ]
  },
  {
   "cell_type": "code",
   "execution_count": 3,
   "id": "a6260476",
   "metadata": {},
   "outputs": [
    {
     "name": "stdout",
     "output_type": "stream",
     "text": [
      "<class 'float'>\n"
     ]
    }
   ],
   "source": [
    "# float\n",
    "\n",
    "x = 3.142 \n",
    "\n",
    "print(type(x))"
   ]
  },
  {
   "cell_type": "code",
   "execution_count": 4,
   "id": "d983fefc",
   "metadata": {},
   "outputs": [
    {
     "name": "stdout",
     "output_type": "stream",
     "text": [
      "<class 'bool'>\n"
     ]
    }
   ],
   "source": [
    "# boolean\n",
    "\n",
    "x = True\n",
    "\n",
    "print(type(x))"
   ]
  },
  {
   "cell_type": "markdown",
   "id": "92cc4b0f",
   "metadata": {},
   "source": [
    "# 2. Compound data structures"
   ]
  },
  {
   "cell_type": "code",
   "execution_count": 6,
   "id": "48108243",
   "metadata": {},
   "outputs": [
    {
     "data": {
      "text/plain": [
       "3.142"
      ]
     },
     "execution_count": 6,
     "metadata": {},
     "output_type": "execute_result"
    }
   ],
   "source": [
    "# list\n",
    "\n",
    "lists_data_types = [1,'code',3.142,False]\n",
    "\n",
    "lists_data_types[2]"
   ]
  },
  {
   "cell_type": "code",
   "execution_count": 7,
   "id": "95e3cc4f",
   "metadata": {},
   "outputs": [
    {
     "name": "stdout",
     "output_type": "stream",
     "text": [
      "Latitude: 0.0236\n",
      "Longitude: 37.9062\n"
     ]
    }
   ],
   "source": [
    "# tuple\n",
    "\n",
    "location = (0.0236, 37.9062)\n",
    "\n",
    "print(\"Latitude:\", location[0])\n",
    "\n",
    "print(\"Longitude:\", location[1])"
   ]
  },
  {
   "cell_type": "code",
   "execution_count": 8,
   "id": "ab40149e",
   "metadata": {},
   "outputs": [
    {
     "name": "stdout",
     "output_type": "stream",
     "text": [
      "1\n"
     ]
    }
   ],
   "source": [
    "# dictionary\n",
    "\n",
    "country = {\"Kenya\":1,\"Uganda\":7,\"Nigeria\":3}\n",
    "\n",
    "print(country[\"Kenya\"])\n",
    "\n",
    "country[\"Uganda\"] = 7"
   ]
  },
  {
   "cell_type": "code",
   "execution_count": 9,
   "id": "aa68bf04",
   "metadata": {},
   "outputs": [
    {
     "data": {
      "text/plain": [
       "{'Kenya': 1, 'Uganda': 7, 'Nigeria': 3}"
      ]
     },
     "execution_count": 9,
     "metadata": {},
     "output_type": "execute_result"
    }
   ],
   "source": [
    "country"
   ]
  },
  {
   "cell_type": "code",
   "execution_count": 10,
   "id": "e47bd9e4",
   "metadata": {},
   "outputs": [
    {
     "name": "stdout",
     "output_type": "stream",
     "text": [
      "{1, 2, 3, 4, 5, 6, 7}\n"
     ]
    }
   ],
   "source": [
    "# set \n",
    "\n",
    "numbers = [1, 4, 5, 3, 2, 7, 2, 6]\n",
    "\n",
    "unique_nums = set(numbers)\n",
    "\n",
    "print(unique_nums)"
   ]
  },
  {
   "cell_type": "markdown",
   "id": "93787ab8",
   "metadata": {},
   "source": [
    "# 3. Conditional,loops and functions"
   ]
  },
  {
   "cell_type": "code",
   "execution_count": 11,
   "id": "111d2738",
   "metadata": {},
   "outputs": [
    {
     "name": "stdout",
     "output_type": "stream",
     "text": [
      "The tax price is : 64.0\n"
     ]
    }
   ],
   "source": [
    "# if statement\n",
    "\n",
    "amount = 400\n",
    "\n",
    "if amount == 400:\n",
    "    print(\"The tax price is :\",(amount*(16/100)))"
   ]
  },
  {
   "cell_type": "code",
   "execution_count": 15,
   "id": "4b2d7c70",
   "metadata": {},
   "outputs": [
    {
     "name": "stdout",
     "output_type": "stream",
     "text": [
      "Ummmm, my favourite!\n"
     ]
    }
   ],
   "source": [
    "# if else statement\n",
    "\n",
    "food = 'spam'\n",
    "\n",
    "if food == 'spam':\n",
    "    print(\"Ummmm, my favourite!\")\n",
    "else:\n",
    "    print(\"No, I won't have it. I want spam!\")"
   ]
  },
  {
   "cell_type": "code",
   "execution_count": 37,
   "id": "fb7ead9c",
   "metadata": {},
   "outputs": [
    {
     "name": "stdout",
     "output_type": "stream",
     "text": [
      "1 - Got a true expression value\n",
      "100\n",
      "2 - Got a false expression value\n",
      "0\n",
      "Good bye!\n"
     ]
    }
   ],
   "source": [
    "# chained\n",
    "\n",
    "var1 = 100\n",
    "\n",
    "if var1:\n",
    "   print (\"1 - Got a true expression value\")\n",
    "   print (var1)\n",
    "    \n",
    "else:\n",
    "   print( \"1 - Got a false expression value\")\n",
    "   print (var1)\n",
    "\n",
    "var2 = 0\n",
    "\n",
    "if var2:\n",
    "   print (\"2 - Got a true expression value\")\n",
    "   print( var2)\n",
    "    \n",
    "else:\n",
    "   print (\"2 - Got a false expression value\")\n",
    "   print (var2)\n",
    "        \n",
    "print (\"Good bye!\")\n"
   ]
  },
  {
   "cell_type": "code",
   "execution_count": 20,
   "id": "84630b01",
   "metadata": {},
   "outputs": [
    {
     "name": "stdout",
     "output_type": "stream",
     "text": [
      "x is a positive single digit.\n"
     ]
    }
   ],
   "source": [
    "# nested conditionals\n",
    "\n",
    "if 0 < x:    \n",
    "    \n",
    "    if x < 10:\n",
    "        \n",
    "        print(\"x is a positive single digit.\")"
   ]
  },
  {
   "cell_type": "code",
   "execution_count": 22,
   "id": "02172f7c",
   "metadata": {},
   "outputs": [
    {
     "name": "stdout",
     "output_type": "stream",
     "text": [
      "We're on time 0\n",
      "We're on time 1\n",
      "We're on time 2\n"
     ]
    }
   ],
   "source": [
    "#  for loop\n",
    "\n",
    "for x in range(0, 3):\n",
    "    \n",
    "    print(\"We're on time %d\" % (x))"
   ]
  },
  {
   "cell_type": "code",
   "execution_count": null,
   "id": "cde6dbf6",
   "metadata": {},
   "outputs": [],
   "source": [
    "#  infinity\n",
    "\n",
    "x = 1\n",
    "\n",
    "while True:\n",
    "    \n",
    "    print(\"To infinity and beyond! We're getting close, on %d now!\" % (x))\n",
    "    x += 1"
   ]
  },
  {
   "cell_type": "code",
   "execution_count": 28,
   "id": "aa9f1fba",
   "metadata": {},
   "outputs": [],
   "source": [
    "# functions\n",
    "\n",
    "def add_two_numbers(a,b):\n",
    "    \n",
    "    add = a + b\n",
    "    \n",
    "    return add"
   ]
  },
  {
   "cell_type": "markdown",
   "id": "929cf370",
   "metadata": {},
   "source": [
    "# 4. Object-oriented programming and external libraries"
   ]
  },
  {
   "cell_type": "markdown",
   "id": "c243e382",
   "metadata": {},
   "source": [
    "Object-oriented"
   ]
  },
  {
   "cell_type": "code",
   "execution_count": 31,
   "id": "dad14e04",
   "metadata": {},
   "outputs": [],
   "source": [
    "class Rectangle:\n",
    "\n",
    "    def __init__(self, height, width):\n",
    "        self.height = height\n",
    "        self.width = width\n",
    "\n",
    "    def area(self):\n",
    "        area = self.height * self.width\n",
    "        return area\n",
    "\n",
    "rect1 = Rectangle(12, 10)"
   ]
  },
  {
   "cell_type": "code",
   "execution_count": 32,
   "id": "bdf38af5",
   "metadata": {},
   "outputs": [
    {
     "data": {
      "text/plain": [
       "12"
      ]
     },
     "execution_count": 32,
     "metadata": {},
     "output_type": "execute_result"
    }
   ],
   "source": [
    "rect1.height"
   ]
  },
  {
   "cell_type": "code",
   "execution_count": 33,
   "id": "f887ebca",
   "metadata": {},
   "outputs": [
    {
     "data": {
      "text/plain": [
       "10"
      ]
     },
     "execution_count": 33,
     "metadata": {},
     "output_type": "execute_result"
    }
   ],
   "source": [
    "rect1.width"
   ]
  },
  {
   "cell_type": "code",
   "execution_count": 34,
   "id": "38e34d6b",
   "metadata": {},
   "outputs": [
    {
     "data": {
      "text/plain": [
       "120"
      ]
     },
     "execution_count": 34,
     "metadata": {},
     "output_type": "execute_result"
    }
   ],
   "source": [
    "rect1.area()"
   ]
  },
  {
   "cell_type": "markdown",
   "id": "7ec96a1e",
   "metadata": {},
   "source": [
    "External libraries/modules"
   ]
  },
  {
   "cell_type": "code",
   "execution_count": 38,
   "id": "4bedbb8e",
   "metadata": {},
   "outputs": [
    {
     "name": "stdout",
     "output_type": "stream",
     "text": [
      "<class 'module'>\n"
     ]
    }
   ],
   "source": [
    "import math as m\n",
    "\n",
    "print(type(m))"
   ]
  },
  {
   "cell_type": "code",
   "execution_count": 39,
   "id": "987af5d5",
   "metadata": {},
   "outputs": [
    {
     "data": {
      "text/plain": [
       "[<matplotlib.lines.Line2D at 0x7f82121c9340>]"
      ]
     },
     "execution_count": 39,
     "metadata": {},
     "output_type": "execute_result"
    },
    {
     "data": {
      "image/png": "[encoded data removed]",
      "text/plain": [
       "<Figure size 432x288 with 1 Axes>"
      ]
     },
     "metadata": {
      "needs_background": "light"
     },
     "output_type": "display_data"
    }
   ],
   "source": [
    "from matplotlib import pyplot as plt\n",
    "\n",
    "plt.plot([2,3,4],[7,8,9])"
   ]
  },
  {
   "cell_type": "code",
   "execution_count": null,
   "id": "8110281f",
   "metadata": {},
   "outputs": [],
   "source": []
  }
 ],
 "metadata": {
  "kernelspec": {
   "display_name": "Python 3 (ipykernel)",
   "language": "python",
   "name": "python3"
  },
  "language_info": {
   "codemirror_mode": {
    "name": "ipython",
    "version": 3
   },
   "file_extension": ".py",
   "mimetype": "text/x-python",
   "name": "python",
   "nbconvert_exporter": "python",
   "pygments_lexer": "ipython3",
   "version": "3.8.8"
  }
 },
 "nbformat": 4,
 "nbformat_minor": 5
}
